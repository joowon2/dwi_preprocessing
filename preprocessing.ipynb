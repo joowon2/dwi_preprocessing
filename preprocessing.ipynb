{
 "cells": [
  {
   "cell_type": "markdown",
   "metadata": {
    "slideshow": {
     "slide_type": "slide"
    }
   },
   "source": [
    "# Neuroconnect - dMRI course\n",
    "\n",
    "## Hands on - Preprocessing\n",
    "\n",
    "## https://github.com/joowon2/dwi_preprocessing/blob/master/preprocessing.ipynb"
   ]
  },
  {
   "cell_type": "markdown",
   "metadata": {
    "slideshow": {
     "slide_type": "slide"
    }
   },
   "source": [
    "## X2Go (http://wiki.x2go.org)\n",
    "* To connect a graphical desktop\n",
    "* Fast X11 forwarding\n",
    "* Download: http://wiki.x2go.org/doku.php/download:start"
   ]
  },
  {
   "cell_type": "markdown",
   "metadata": {
    "slideshow": {
     "slide_type": "fragment"
    }
   },
   "source": [
    "* Run X2Go Client\n",
    "* Create new session\n",
    "<img src=\"figs/1_new_session_button.png\" width=\"400\">"
   ]
  },
  {
   "cell_type": "markdown",
   "metadata": {
    "slideshow": {
     "slide_type": "subslide"
    }
   },
   "source": [
    "* host `10.81.240.56`\n",
    "* port `2205`\n",
    "<img src=\"figs/2_new_session.png\" width=\"500\">"
   ]
  },
  {
   "cell_type": "markdown",
   "metadata": {
    "slideshow": {
     "slide_type": "subslide"
    }
   },
   "source": [
    "* if you already have the session, click it\n",
    "<img src=\"figs/3_session.png\" width=\"400\">"
   ]
  },
  {
   "cell_type": "markdown",
   "metadata": {
    "slideshow": {
     "slide_type": "fragment"
    }
   },
   "source": [
    "* type your login id and password\n",
    "<img src=\"figs/4_login.png\" width=\"300\">"
   ]
  },
  {
   "cell_type": "markdown",
   "metadata": {
    "slideshow": {
     "slide_type": "subslide"
    }
   },
   "source": [
    "* open a terminal\n",
    "<img src=\"figs/5_terminal_icon.png\" width=\"300\">"
   ]
  },
  {
   "cell_type": "markdown",
   "metadata": {
    "slideshow": {
     "slide_type": "fragment"
    }
   },
   "source": [
    "* if you want to log out\n",
    "<img src=\"figs/6_logout.png\" width=\"300\">"
   ]
  },
  {
   "cell_type": "markdown",
   "metadata": {
    "slideshow": {
     "slide_type": "slide"
    }
   },
   "source": [
    "## Prepare data\n",
    "\n",
    "* to copy the preprocessing practical data, type the following command in terminal\n",
    "\n",
    "```\n",
    "/home/NeuroConnect/Lesson_1_Preprocessing/Practical/copy_preprocessing.sh\n",
    "```"
   ]
  },
  {
   "cell_type": "raw",
   "metadata": {
    "slideshow": {
     "slide_type": "-"
    }
   },
   "source": [
    "/home/NeuroConnect/Lesson_1_Preprocessing/Practical/copy_preprocessing.sh"
   ]
  },
  {
   "cell_type": "markdown",
   "metadata": {
    "slideshow": {
     "slide_type": "slide"
    }
   },
   "source": [
    "## Run jupyter notebook\n",
    "\n",
    "```\n",
    "cd ~/preprocessing\n",
    "jupyter notebook\n",
    "```\n",
    "\n",
    "#### and click preprocessing.ipynb file\n",
    "<img src=\"figs/7_notebook.png\" width=\"300\">\n",
    "\n",
    "* To exit notebook in the terminal\n",
    "* Press `Ctrl + C` twice."
   ]
  },
  {
   "cell_type": "raw",
   "metadata": {
    "collapsed": false,
    "slideshow": {
     "slide_type": "skip"
    }
   },
   "source": [
    "cd ~/preprocessing\n",
    "jupyter notebook"
   ]
  },
  {
   "cell_type": "markdown",
   "metadata": {
    "slideshow": {
     "slide_type": "subslide"
    }
   },
   "source": [
    "## jupyter notebook\n",
    "\n",
    "* You can run commands by using notebook interface or typing them in a terminal.\n",
    "* `In [ ]`: Cell block. You can excute this block by pressing Ctrl+Enter (or Shift+Enter) or clicking play button.\n",
    "* `In [*]`: Cell block is running. If finished,\n",
    "* `In [a integer]`\n"
   ]
  },
  {
   "cell_type": "markdown",
   "metadata": {
    "slideshow": {
     "slide_type": "slide"
    }
   },
   "source": [
    "# Diffusion MRI preprocessing (using FSL)\n",
    "\n",
    "```\n",
    "cd ~/preprocessing\n",
    "pwd\n",
    "```"
   ]
  },
  {
   "cell_type": "code",
   "execution_count": null,
   "metadata": {
    "collapsed": false,
    "slideshow": {
     "slide_type": "-"
    }
   },
   "outputs": [],
   "source": [
    "cd ~/preprocessing\n",
    "pwd"
   ]
  },
  {
   "cell_type": "markdown",
   "metadata": {
    "slideshow": {
     "slide_type": "slide"
    }
   },
   "source": [
    "## dcm2niix: convert DICOM to Nifti1\n",
    "* wiki: http://www.nitrc.org/plugins/mwiki/index.php/dcm2nii:MainPage\n",
    "* code: https://github.com/neurolabusc/dcm2niix"
   ]
  },
  {
   "cell_type": "markdown",
   "metadata": {
    "slideshow": {
     "slide_type": "subslide"
    }
   },
   "source": [
    "#### Example: convert the DICOM files in DICOM directory to a nifti1 file using a protocal name as a filename and store in the nifti directory\n",
    "\n",
    "```\n",
    "mkdir -p nifti\n",
    "dcm2niix -z y -f %p -o nifti DICOM\n",
    "```\n"
   ]
  },
  {
   "cell_type": "code",
   "execution_count": null,
   "metadata": {
    "collapsed": false,
    "slideshow": {
     "slide_type": "-"
    }
   },
   "outputs": [],
   "source": [
    "mkdir -p nifti\n",
    "dcm2niix -z y -f %p -o nifti DICOM"
   ]
  },
  {
   "cell_type": "markdown",
   "metadata": {
    "slideshow": {
     "slide_type": "subslide"
    }
   },
   "source": [
    "#### Check the output directory\n",
    "\n",
    "```\n",
    "ls nifti\n",
    "```"
   ]
  },
  {
   "cell_type": "code",
   "execution_count": null,
   "metadata": {
    "collapsed": false,
    "slideshow": {
     "slide_type": "-"
    }
   },
   "outputs": [],
   "source": [
    "ls nifti"
   ]
  },
  {
   "cell_type": "markdown",
   "metadata": {
    "slideshow": {
     "slide_type": "subslide"
    }
   },
   "source": [
    "## Diffusion-weighted imaging data\n",
    "* filename.nii.gz: image file\n",
    "* filename.bval: b-value\n",
    "* filename.bvec: gradient direction"
   ]
  },
  {
   "cell_type": "markdown",
   "metadata": {
    "slideshow": {
     "slide_type": "fragment"
    }
   },
   "source": [
    "#### pre-converted dwi files\n",
    "```\n",
    "ls dwi\n",
    "```"
   ]
  },
  {
   "cell_type": "code",
   "execution_count": null,
   "metadata": {
    "collapsed": true,
    "slideshow": {
     "slide_type": "-"
    }
   },
   "outputs": [],
   "source": [
    "ls dwi"
   ]
  },
  {
   "cell_type": "markdown",
   "metadata": {
    "slideshow": {
     "slide_type": "subslide"
    }
   },
   "source": [
    "* DWI_LR_BIC_v1 : left-right DWI\n",
    "* DWI_RL_BIC_v1 : right-left DWI\n",
    "* DWI_LR_BIC_v1_SBRef.nii.gz : left-right single-band reference\n",
    "* DWI_RL_BIC_v1_SBRef.nii.gz : right-left single-band reference"
   ]
  },
  {
   "cell_type": "markdown",
   "metadata": {
    "slideshow": {
     "slide_type": "subslide"
    }
   },
   "source": [
    "#### Open the image\n",
    "```\n",
    "fslview dwi/DWI_LR_BIC_v1.nii.gz dwi/DWI_RL_BIC_v1.nii.gz\n",
    "```"
   ]
  },
  {
   "cell_type": "code",
   "execution_count": null,
   "metadata": {
    "collapsed": true,
    "slideshow": {
     "slide_type": "-"
    }
   },
   "outputs": [],
   "source": [
    "fslview dwi/DWI_LR_BIC_v1.nii.gz dwi/DWI_RL_BIC_v1.nii.gz"
   ]
  },
  {
   "cell_type": "markdown",
   "metadata": {
    "slideshow": {
     "slide_type": "fragment"
    }
   },
   "source": [
    "<img src=\"figs/fig_fslview.png\" width=\"600\">"
   ]
  },
  {
   "cell_type": "markdown",
   "metadata": {
    "slideshow": {
     "slide_type": "slide"
    }
   },
   "source": [
    "## TOPUP\n",
    "\n",
    "* Estimates non-zero off-resonance field and corrects susceptibility-induced distortions\n",
    "* http://fsl.fmrib.ox.ac.uk/fsl/fslwiki/topup"
   ]
  },
  {
   "cell_type": "markdown",
   "metadata": {
    "slideshow": {
     "slide_type": "subslide"
    }
   },
   "source": [
    "#### Extract b0 image\n",
    "\n",
    "<img src=\"figs/fig_topup_1.png\" width=\"300\">\n",
    "\n",
    "* TOPUP works with an image containing b0 frames (without diffusion-weighting) of opposite phase encoding directions\n",
    "* To extract b0 images, use fslroi\n",
    "* `fslroi input output start_frame number_of_frames_to_extract`\n",
    "\n",
    "```\n",
    "fslroi dwi/DWI_LR_BIC_v1.nii.gz dwi/DWI_LR_b0 0 1\n",
    "```\n"
   ]
  },
  {
   "cell_type": "code",
   "execution_count": null,
   "metadata": {
    "collapsed": false,
    "slideshow": {
     "slide_type": "-"
    }
   },
   "outputs": [],
   "source": [
    "fslroi dwi/DWI_LR_BIC_v1.nii.gz dwi/DWI_LR_b0 0 1"
   ]
  },
  {
   "cell_type": "code",
   "execution_count": null,
   "metadata": {
    "collapsed": true,
    "slideshow": {
     "slide_type": "-"
    }
   },
   "outputs": [],
   "source": [
    "fslroi dwi/DWI_RL_BIC_v1.nii.gz dwi/DWI_RL_b0 0 1"
   ]
  },
  {
   "cell_type": "markdown",
   "metadata": {
    "slideshow": {
     "slide_type": "subslide"
    }
   },
   "source": [
    "#### Using Single Band Reference (SBRef)\n",
    "\n",
    "<img src=\"figs/fig_topup_2.png\" width=\"320\">\n",
    "\n",
    "* DWI using multi-band: fast but low quality\n",
    "* For TOPUP, acquire another single-band reference scan (short, 1 frame) before DWI\n",
    "* compare SBRef and multi-band DWI\n",
    "```\n",
    "fslview dwi/DWI_LR_BIC_v1.nii.gz dwi/DWI_LR_BIC_v1_SBRef.nii.gz\n",
    "fslview dwi/DWI_RL_BIC_v1.nii.gz dwi/DWI_RL_BIC_v1_SBRef.nii.gz\n",
    "```"
   ]
  },
  {
   "cell_type": "code",
   "execution_count": null,
   "metadata": {
    "collapsed": true,
    "slideshow": {
     "slide_type": "-"
    }
   },
   "outputs": [],
   "source": [
    "fslview dwi/DWI_LR_BIC_v1.nii.gz dwi/DWI_LR_BIC_v1_SBRef.nii.gz"
   ]
  },
  {
   "cell_type": "code",
   "execution_count": null,
   "metadata": {
    "collapsed": true,
    "slideshow": {
     "slide_type": "-"
    }
   },
   "outputs": [],
   "source": [
    "fslview dwi/DWI_RL_BIC_v1.nii.gz dwi/DWI_RL_BIC_v1_SBRef.nii.gz"
   ]
  },
  {
   "cell_type": "markdown",
   "metadata": {
    "slideshow": {
     "slide_type": "subslide"
    }
   },
   "source": [
    "#### open both b0 images and compare them\n",
    "```\n",
    "fslview dwi/DWI_LR_BIC_v1_SBRef.nii.gz dwi/DWI_RL_BIC_v1_SBRef.nii.gz\n",
    "```"
   ]
  },
  {
   "cell_type": "code",
   "execution_count": null,
   "metadata": {
    "collapsed": true,
    "slideshow": {
     "slide_type": "-"
    }
   },
   "outputs": [],
   "source": [
    "fslview dwi/DWI_LR_BIC_v1_SBRef.nii.gz dwi/DWI_RL_BIC_v1_SBRef.nii.gz"
   ]
  },
  {
   "cell_type": "markdown",
   "metadata": {
    "slideshow": {
     "slide_type": "subslide"
    }
   },
   "source": [
    "#### Merge two b0 images to make an input image for TOPUP\n",
    "```\n",
    "fslmerge -t dwi/DWI_lr_rl_sbref dwi/DWI_LR_BIC_v1_SBRef.nii.gz dwi/DWI_RL_BIC_v1_SBRef.nii.gz\n",
    "```"
   ]
  },
  {
   "cell_type": "code",
   "execution_count": null,
   "metadata": {
    "collapsed": true,
    "slideshow": {
     "slide_type": "-"
    }
   },
   "outputs": [],
   "source": [
    "fslmerge -t dwi/DWI_lr_rl_sbref dwi/DWI_LR_BIC_v1_SBRef.nii.gz dwi/DWI_RL_BIC_v1_SBRef.nii.gz"
   ]
  },
  {
   "cell_type": "markdown",
   "metadata": {
    "slideshow": {
     "slide_type": "subslide"
    }
   },
   "source": [
    "#### Create acqparams.txt file\n",
    "* acqparams.txt contains PE direction at the first three columns (x, y, z) and total readout time at the last column.\n",
    "\n",
    "* total readout time: `echo_spacing_time * (#echo_spacing - 1)`\n",
    "\n",
    "example acqparams.txt: <br>\n",
    "```\n",
    "-1 0 0 0.05694\n",
    "1 0 0 0.05694\n",
    "```\n",
    "To make this acqparams file, \n",
    "```\n",
    "echo -e \"-1 0 0 0.05694\\n1 0 0 0.05694\" > topup/acqparams.txt\n",
    "```"
   ]
  },
  {
   "cell_type": "code",
   "execution_count": null,
   "metadata": {
    "collapsed": false,
    "slideshow": {
     "slide_type": "-"
    }
   },
   "outputs": [],
   "source": [
    "echo -e \"-1 0 0 0.05694\\n1 0 0 0.05694\" > topup/acqparams.txt"
   ]
  },
  {
   "cell_type": "code",
   "execution_count": null,
   "metadata": {
    "collapsed": true,
    "slideshow": {
     "slide_type": "fragment"
    }
   },
   "outputs": [],
   "source": [
    "cat topup/acqparams.txt"
   ]
  },
  {
   "cell_type": "markdown",
   "metadata": {
    "slideshow": {
     "slide_type": "subslide"
    }
   },
   "source": [
    "#### topup command: http://fsl.fmrib.ox.ac.uk/fsl/fslwiki/topup/TopupUsersGuide\n",
    "\n",
    "example:  <br>\n",
    "```\n",
    "topup \\\n",
    "    --imain=dwi/DWI_lr_rl_sbref \\\n",
    "    --datain=topup/acqparams.txt \\\n",
    "    --config=b02b0.cnf \\\n",
    "    --out=topup/topup \\\n",
    "    --iout=topup/topup_warped \\\n",
    "    --fout=topup/topup_field \\\n",
    "    --interp=spline \\\n",
    "    --subsamp=1\n",
    "```"
   ]
  },
  {
   "cell_type": "code",
   "execution_count": null,
   "metadata": {
    "collapsed": false,
    "slideshow": {
     "slide_type": "-"
    }
   },
   "outputs": [],
   "source": [
    "echo topup \\\n",
    "    --imain=dwi/DWI_lr_rl_sbref \\\n",
    "    --datain=topup/acqparams.txt \\\n",
    "    --config=b02b0.cnf \\\n",
    "    --out=topup/topup \\\n",
    "    --iout=topup/topup_warped \\\n",
    "    --fout=topup/topup_field \\\n",
    "    --interp=spline \\\n",
    "    --subsamp=1\n",
    "echo    \n",
    "ls topup_done/"
   ]
  },
  {
   "cell_type": "markdown",
   "metadata": {
    "slideshow": {
     "slide_type": "subslide"
    }
   },
   "source": [
    "#### Topup results:\n",
    "* topup_done/topup_movpar.txt: movement between dwi_ap_b0 and dwi_pa_b0\n",
    "* topup_done/topup_fieldcoef.nii.gz: off-resonance field\n",
    "* topup_done/topup_field.nii.gz: field\n",
    "* topup_done/topup_warped.nii.gz: warped (distortion-corrected) image\n",
    "\n",
    "#### Open results\n",
    "```\n",
    "fslview topup_done/topup_fieldcoef.nii.gz\n",
    "fslview dwi/DWI_lr_rl_sbref topup_done/topup_warped.nii.gz\n",
    "```"
   ]
  },
  {
   "cell_type": "code",
   "execution_count": null,
   "metadata": {
    "collapsed": true,
    "slideshow": {
     "slide_type": "-"
    }
   },
   "outputs": [],
   "source": [
    "fslview topup_done/topup_fieldcoef.nii.gz"
   ]
  },
  {
   "cell_type": "code",
   "execution_count": null,
   "metadata": {
    "collapsed": true,
    "slideshow": {
     "slide_type": "-"
    }
   },
   "outputs": [],
   "source": [
    "fslview dwi/DWI_lr_rl_sbref topup_done/topup_warped.nii.gz"
   ]
  },
  {
   "cell_type": "markdown",
   "metadata": {
    "slideshow": {
     "slide_type": "slide"
    }
   },
   "source": [
    "## EDDY\n",
    "\n",
    "* corrects eddy current-induced distortion and movements\n",
    "* http://fsl.fmrib.ox.ac.uk/fsl/fslwiki/eddy"
   ]
  },
  {
   "cell_type": "markdown",
   "metadata": {
    "slideshow": {
     "slide_type": "subslide"
    }
   },
   "source": [
    "#### Creating a mask\n",
    "\n",
    "* EDDY requires a brain mask image file.\n",
    "* To generate one, run bet on the topup unwarped image.\n",
    "* You may use an option `-f 0.2`\n",
    "\n",
    "```\n",
    "bet topup_done/topup_warped.nii.gz topup_done/topup_warped_bet -m\n",
    "```"
   ]
  },
  {
   "cell_type": "code",
   "execution_count": null,
   "metadata": {
    "collapsed": true,
    "slideshow": {
     "slide_type": "-"
    }
   },
   "outputs": [],
   "source": [
    "bet topup_done/topup_warped.nii.gz topup_done/topup_warped_bet -m"
   ]
  },
  {
   "cell_type": "markdown",
   "metadata": {
    "slideshow": {
     "slide_type": "subslide"
    }
   },
   "source": [
    "#### Check the BET result\n",
    "```\n",
    "fslview topup_done/topup_warped_bet\n",
    "```"
   ]
  },
  {
   "cell_type": "code",
   "execution_count": null,
   "metadata": {
    "collapsed": true,
    "slideshow": {
     "slide_type": "-"
    }
   },
   "outputs": [],
   "source": [
    "fslview topup_done/topup_warped_bet"
   ]
  },
  {
   "cell_type": "markdown",
   "metadata": {
    "slideshow": {
     "slide_type": "subslide"
    }
   },
   "source": [
    "#### Merge RL and LR DWI and run EDDY\n",
    "* to merge RL and LR DWI, bval, and bvec\n",
    "\n",
    "```\n",
    "fslmerge -t dwi/DWI_lr_rl dwi/DWI_LR_BIC_v1.nii.gz dwi/DWI_RL_BIC_v1.nii.gz\n",
    "paste dwi/DWI_LR_BIC_v1.bval dwi/DWI_RL_BIC_v1.bval > dwi/DWI_lr_rl.bval\n",
    "paste dwi/DWI_LR_BIC_v1.bvec dwi/DWI_RL_BIC_v1.bvec > dwi/DWI_lr_rl.bvec\n",
    "```"
   ]
  },
  {
   "cell_type": "code",
   "execution_count": null,
   "metadata": {
    "collapsed": true,
    "slideshow": {
     "slide_type": "-"
    }
   },
   "outputs": [],
   "source": [
    "fslmerge -t dwi/DWI_lr_rl dwi/DWI_LR_BIC_v1.nii.gz dwi/DWI_RL_BIC_v1.nii.gz\n",
    "paste dwi/DWI_LR_BIC_v1.bval dwi/DWI_RL_BIC_v1.bval > dwi/DWI_lr_rl.bval\n",
    "paste dwi/DWI_LR_BIC_v1.bvec dwi/DWI_RL_BIC_v1.bvec > dwi/DWI_lr_rl.bvec"
   ]
  },
  {
   "cell_type": "markdown",
   "metadata": {
    "slideshow": {
     "slide_type": "slide"
    }
   },
   "source": [
    "#### fslinfo\n",
    "* `fslinfo` shows short infomation of a nifti file\n",
    "\n",
    "```\n",
    "fslinfo dwi/DWI_LR_BIC_v1.nii.gz\n",
    "fslinfo dwi/DWI_RL_BIC_v1.nii.gz\n",
    "fslinfo dwi/DWI_lr_rl.nii.gz\n",
    "```\n"
   ]
  },
  {
   "cell_type": "code",
   "execution_count": null,
   "metadata": {
    "collapsed": true,
    "slideshow": {
     "slide_type": "-"
    }
   },
   "outputs": [],
   "source": [
    "fslinfo dwi/DWI_LR_BIC_v1.nii.gz"
   ]
  },
  {
   "cell_type": "code",
   "execution_count": null,
   "metadata": {
    "collapsed": true,
    "slideshow": {
     "slide_type": "-"
    }
   },
   "outputs": [],
   "source": [
    "fslinfo dwi/DWI_RL_BIC_v1.nii.gz"
   ]
  },
  {
   "cell_type": "code",
   "execution_count": null,
   "metadata": {
    "collapsed": true,
    "slideshow": {
     "slide_type": "-"
    }
   },
   "outputs": [],
   "source": [
    "fslinfo dwi/DWI_lr_rl.nii.gz"
   ]
  },
  {
   "cell_type": "markdown",
   "metadata": {
    "slideshow": {
     "slide_type": "subslide"
    }
   },
   "source": [
    "#### Creating index.txt file\n",
    "\n",
    "<img src=\"figs/fig_eddy_1.png\" width=\"320\">\n",
    "\n",
    "The row numbers in the acqparams.txt file corresponding to the input image frames. <br>\n",
    "There should be the same number of numbers as the number of frames in the input image\n",
    "\n",
    "<img src=\"figs/fig_eddy_2.png\" width=\"520\">\n",
    "\n",
    "To make an index file (http://fsl.fmrib.ox.ac.uk/fsl/fslwiki/eddy/UsersGuide) <br>\n",
    "```\n",
    "n_lr=`fslinfo dwi/DWI_LR_BIC_v1 | grep \"\\<dim4\" | awk '{print $2}'`\n",
    "n_rl=`fslinfo dwi/DWI_RL_BIC_v1 | grep \"\\<dim4\" | awk '{print $2}'`\n",
    "indx=\"\"\n",
    "for ((i=1; i<=$n_lr; i+=1)); do indx=\"$indx 1\"; done\n",
    "for ((i=1; i<=$n_rl; i+=1)); do indx=\"$indx 2\"; done\n",
    "echo $indx > eddy/index.txt\n",
    "cat eddy/index.txt\n",
    "```"
   ]
  },
  {
   "cell_type": "code",
   "execution_count": null,
   "metadata": {
    "collapsed": true,
    "slideshow": {
     "slide_type": "-"
    }
   },
   "outputs": [],
   "source": [
    "n_lr=`fslinfo dwi/DWI_LR_BIC_v1 | grep \"\\<dim4\" | awk '{print $2}'`\n",
    "n_rl=`fslinfo dwi/DWI_RL_BIC_v1 | grep \"\\<dim4\" | awk '{print $2}'`\n",
    "indx=\"\"\n",
    "for ((i=1; i<=$n_lr; i+=1)); do indx=\"$indx 1\"; done\n",
    "for ((i=1; i<=$n_rl; i+=1)); do indx=\"$indx 2\"; done\n",
    "echo $indx > eddy/index.txt"
   ]
  },
  {
   "cell_type": "code",
   "execution_count": null,
   "metadata": {
    "collapsed": true,
    "slideshow": {
     "slide_type": "fragment"
    }
   },
   "outputs": [],
   "source": [
    "cat eddy/index.txt"
   ]
  },
  {
   "cell_type": "markdown",
   "metadata": {
    "slideshow": {
     "slide_type": "subslide"
    }
   },
   "source": [
    "#### EDDY command: http://fsl.fmrib.ox.ac.uk/fsl/fslwiki/EDDY/UsersGuide\n",
    "\n",
    "example: <br>\n",
    "```\n",
    "eddy \\\n",
    "    --imain=dwi/DWI_lr_rl \\\n",
    "    --mask=topup_done/topup_warped_bet_mask \\\n",
    "    --bvecs=dwi/DWI_lr_rl.bvec \\\n",
    "    --bvals=dwi/DWI_lr_rl.bval \\\n",
    "    --acqp=topup_done/acqparams.txt \\\n",
    "    --topup=topup_done/topup \\\n",
    "    --index=eddy/index.txt \\\n",
    "    --out=eddy/eddy_unwarped\n",
    "```"
   ]
  },
  {
   "cell_type": "code",
   "execution_count": null,
   "metadata": {
    "collapsed": false,
    "slideshow": {
     "slide_type": "-"
    }
   },
   "outputs": [],
   "source": [
    "echo eddy \\\n",
    "    --imain=dwi/DWI_lr_rl \\\n",
    "    --mask=topup_done/topup_warped_bet_mask \\\n",
    "    --bvecs=dwi/DWI_lr_rl.bvec \\\n",
    "    --bvals=dwi/DWI_lr_rl.bval \\\n",
    "    --acqp=topup_done/acqparams.txt \\\n",
    "    --topup=topup_done/topup \\\n",
    "    --index=eddy/index.txt \\\n",
    "    --out=eddy/eddy_unwarped\n",
    "echo\n",
    "ls eddy_done"
   ]
  },
  {
   "cell_type": "markdown",
   "metadata": {
    "slideshow": {
     "slide_type": "subslide"
    }
   },
   "source": [
    "#### Check the results\n",
    "```\n",
    "fslview dwi/DWI_lr_rl eddy_done/eddy_unwarped\n",
    "```"
   ]
  },
  {
   "cell_type": "code",
   "execution_count": null,
   "metadata": {
    "collapsed": true,
    "slideshow": {
     "slide_type": "-"
    }
   },
   "outputs": [],
   "source": [
    "fslview dwi/DWI_lr_rl eddy_done/eddy_unwarped"
   ]
  },
  {
   "cell_type": "markdown",
   "metadata": {
    "slideshow": {
     "slide_type": "slide"
    }
   },
   "source": [
    "## Gradient non-linearity distortion correction\n",
    "\n",
    "* We cannot practice gradient unwarp, because we cannot provide the Siemens gradient coefficient file to you\n",
    "* Let's compare a pre-baked image to our topup result\n",
    "```\n",
    "fslview topup_done/topup_warped gradient_unwarp/topup_warped_dc\n",
    "```"
   ]
  },
  {
   "cell_type": "code",
   "execution_count": null,
   "metadata": {
    "collapsed": true,
    "slideshow": {
     "slide_type": "-"
    }
   },
   "outputs": [],
   "source": [
    "fslview topup_done/topup_warped gradient_unwarp/topup_warped_dc"
   ]
  },
  {
   "cell_type": "markdown",
   "metadata": {
    "slideshow": {
     "slide_type": "slide"
    }
   },
   "source": [
    "# Coffee break"
   ]
  }
 ],
 "metadata": {
  "kernelspec": {
   "display_name": "Bash",
   "language": "bash",
   "name": "bash"
  },
  "language_info": {
   "codemirror_mode": "shell",
   "file_extension": ".sh",
   "mimetype": "text/x-sh",
   "name": "bash"
  }
 },
 "nbformat": 4,
 "nbformat_minor": 1
}
